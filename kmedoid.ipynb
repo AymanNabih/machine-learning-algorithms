{
 "cells": [
  {
   "cell_type": "markdown",
   "metadata": {},
   "source": [
    "# Introduction"
   ]
  },
  {
   "cell_type": "markdown",
   "metadata": {},
   "source": [
    "# Setup"
   ]
  },
  {
   "cell_type": "markdown",
   "metadata": {},
   "source": [
    "## Helper Methods"
   ]
  },
  {
   "cell_type": "code",
   "execution_count": 2,
   "metadata": {
    "collapsed": true
   },
   "outputs": [],
   "source": [
    "def printl(msg):\n",
    "    sys.stdout.write(\"\\r\" + str(msg))\n",
    "    sys.stdout.flush()"
   ]
  },
  {
   "cell_type": "markdown",
   "metadata": {},
   "source": [
    "## Imports"
   ]
  },
  {
   "cell_type": "code",
   "execution_count": 3,
   "metadata": {
    "collapsed": true
   },
   "outputs": [],
   "source": [
    "import math\n",
    "import sys\n",
    "\n",
    "import numpy as np\n",
    "import pandas as pd\n",
    "import matplotlib.pyplot as plt\n",
    "\n",
    "from sklearn.base import BaseEstimator, ClusterMixin\n",
    "from sklearn.preprocessing import StandardScaler\n",
    "from sklearn.cluster import KMeans\n",
    "from sklearn.model_selection import train_test_split\n",
    "from sklearn.datasets import load_iris, load_breast_cancer, load_digits, make_blobs\n",
    "\n",
    "%matplotlib inline"
   ]
  },
  {
   "cell_type": "markdown",
   "metadata": {},
   "source": [
    "# PAM - Partitioning around Medoids"
   ]
  },
  {
   "cell_type": "code",
   "execution_count": 4,
   "metadata": {},
   "outputs": [],
   "source": [
    "class CustomKMedoids(BaseEstimator, ClusterMixin):\n",
    "    def __init__(self, k=10, plot=False):\n",
    "        self.k = k\n",
    "        self.plot = plot\n",
    "\n",
    "        \n",
    "    @property\n",
    "    def cluster_centers_(self):\n",
    "        return self._cluster_centers\n",
    "\n",
    "    \n",
    "    @property\n",
    "    def clusters_(self):\n",
    "        return self._clusters\n",
    "    \n",
    "    \n",
    "    @property\n",
    "    def cost_(self):\n",
    "        return self._cost\n",
    "    \n",
    "    \n",
    "    def fit(self, X):\n",
    "        self.X = X\n",
    "        self.xdim = X.shape[1]\n",
    "        \n",
    "        if self.xdim != 2 and self.plot == True:\n",
    "            self.plot = False\n",
    "        \n",
    "        self._check_params(self.X)\n",
    "        self._k_medoids(self.X)\n",
    "        self.fitted_ = True\n",
    "        \n",
    "        return self\n",
    "    \n",
    "    \n",
    "    def _k_medoids(self,X):\n",
    "        medoids = []\n",
    "        \n",
    "        #initially taking first \"k\" points as medoids\n",
    "        for i in range(self.k):\n",
    "            medoids.append(X[i])\n",
    "        medoids = np.array(medoids)\n",
    "            \n",
    "        clusters, cost = self._cluster(medoids)\n",
    "\n",
    "        while True:\n",
    "            #reassigning old medoids and cost w.r.t old medoids\n",
    "            old_medoids = np.copy(medoids)\n",
    "            old_clusters = dict(clusters)\n",
    "            old_cost = cost\n",
    "            \n",
    "            #getting new medoids and clusters and cost w.r.t new medoids\n",
    "            new_medoids = self._optimal_configuration(medoids)\n",
    "            new_clusters, new_cost = self._cluster(new_medoids)\n",
    "            \n",
    "            \n",
    "            if new_cost < old_cost:\n",
    "                medoids = np.copy(new_medoids)\n",
    "                clusters = dict(new_clusters)\n",
    "                cost = new_cost\n",
    "            elif new_cost == old_cost:\n",
    "                #if medoids are equal then finishing\n",
    "                optimized = True\n",
    "                for i,medoid in enumerate(medoids):\n",
    "                    if not np.array_equal(medoid, old_medoids[i]):\n",
    "                        optimized = False\n",
    "                        break\n",
    "                if optimized == True: \n",
    "                    #medoids = self._optimal_local_configuration(medoids, clusters)\n",
    "                    #clusters, cost = self._cluster(medoids)\n",
    "                    break\n",
    "                \n",
    "        \n",
    "        self._cluster_centers = medoids\n",
    "        self._clusters = clusters\n",
    "        self._cost = cost\n",
    "        \n",
    "        \n",
    "    def _cluster(self, medoids, X=None):\n",
    "        if X is None:\n",
    "            X = self.X\n",
    "            \n",
    "        clusters = {}\n",
    "        cost = 0\n",
    "        \n",
    "        for i in range(self.k):\n",
    "            clusters[i] = []\n",
    "            \n",
    "        #assigning each point to its nearest medoid\n",
    "        for x in X:\n",
    "            distances = [np.linalg.norm(medoid-x) for medoid in medoids]\n",
    "\n",
    "            # getting closest medoid from this point\n",
    "            index = np.argmin(distances)\n",
    "            \n",
    "            #updating cost\n",
    "            cost += distances[index]\n",
    "\n",
    "            #adding point to its respective cluster\n",
    "            clusters[index].append(x)\n",
    "            \n",
    "        return clusters, cost\n",
    "            \n",
    "    \n",
    "    def _optimal_configuration(self, medoids):\n",
    "        X = self.X\n",
    "        \n",
    "        new_medoids = []\n",
    "        for i,medoid in enumerate(medoids):\n",
    "            #getting cluster and cost of current medoids\n",
    "            min_clusters, min_cost = self._cluster(medoids)\n",
    "            new_medoid = medoid\n",
    "            \n",
    "            temp_medoids = np.copy(medoids)\n",
    "            for x in min_clusters[i]:\n",
    "                #changing the current medoid to current point\n",
    "                temp_medoids[i] = x\n",
    "                \n",
    "                #computing new clusters and cost w.r.t to new point as medoid\n",
    "                new_clusters, new_cost = self._cluster(temp_medoids)\n",
    "                \n",
    "                #updating cost, medoid and cluster if new cost < previous minimum cost\n",
    "                if new_cost < min_cost:\n",
    "                    min_cost = new_cost\n",
    "                    new_medoid = x\n",
    "                    min_clusters = new_clusters\n",
    "            new_medoids.append(new_medoid)\n",
    "        return np.array(new_medoids)\n",
    "    \n",
    "    \n",
    "    def _optimal_local_configuration(self, medoids, clusters):\n",
    "        new_medoids = []\n",
    "        \n",
    "        for i, medoid in enumerate(medoids):\n",
    "            min_cost = self._local_cost(medoid, clusters[i])\n",
    "            min_medoid = medoid\n",
    "            \n",
    "            for x in clusters[i]:\n",
    "                if not np.array_equal(x, medoid):\n",
    "                    new_cost = self._local_cost(x, clusters[i])\n",
    "                    if new_cost < min_cost:\n",
    "                        min_cost = new_cost\n",
    "                        min_medoid = x\n",
    "            \n",
    "            new_medoids.append(min_medoid)\n",
    "        return np.array(new_medoids)\n",
    "    \n",
    "    \n",
    "    def _local_cost(self, medoid, cluster):\n",
    "        cost = 0\n",
    "        for x in cluster:\n",
    "            if not np.array_equal(x, medoid):\n",
    "                cost += np.linalg.norm(medoid-x)\n",
    "            \n",
    "        return cost\n",
    "            \n",
    "    \n",
    "\n",
    "    def predict(self, X):\n",
    "        y_preds = []\n",
    "        for x in X:\n",
    "            #getting eucledian distance of current points from each medoid\n",
    "            distances = [np.linalg.norm(medoid-x) for medoid in self._cluster_centers]\n",
    "            \n",
    "            #getting index(class) of closes medoid from current point\n",
    "            index = np.argmin(distances)\n",
    "            \n",
    "            y_preds.append(index)\n",
    "        return np.array(y_preds)\n",
    "    \n",
    "    \n",
    "    def _plot(self, old_medoids, new_medoids):\n",
    "        plt.scatter(X[:,0], X[:,1])\n",
    "        plt.scatter(old_medoids[:,0], old_medoids[:,1], c='g')\n",
    "        plt.scatter(new_medoids[:,0], new_medoids[:,1], c='r')\n",
    "        plt.show()\n",
    "    \n",
    "    \n",
    "    def _check_params(self, X):\n",
    "        pass"
   ]
  },
  {
   "cell_type": "markdown",
   "metadata": {},
   "source": [
    "## Iris Dataset"
   ]
  },
  {
   "cell_type": "code",
   "execution_count": 5,
   "metadata": {
    "collapsed": true
   },
   "outputs": [],
   "source": [
    "iris = load_iris()\n",
    "breast = load_breast_cancer()\n",
    "digits = load_digits()\n",
    "\n",
    "dataset = breast\n",
    "X = dataset.data\n",
    "y = dataset.target"
   ]
  },
  {
   "cell_type": "code",
   "execution_count": 6,
   "metadata": {},
   "outputs": [
    {
     "name": "stdout",
     "output_type": "stream",
     "text": [
      "[[  1.25400000e+01   1.80700000e+01   7.94200000e+01   4.91900000e+02\n",
      "    7.43600000e-02   2.65000000e-02   1.19400000e-03   5.44900000e-03\n",
      "    1.52800000e-01   5.18500000e-02   3.51100000e-01   9.52700000e-01\n",
      "    2.32900000e+00   2.83000000e+01   5.78300000e-03   4.69300000e-03\n",
      "    7.92900000e-04   3.61700000e-03   2.04300000e-02   1.05800000e-03\n",
      "    1.37200000e+01   2.09800000e+01   8.68200000e+01   5.85700000e+02\n",
      "    9.29300000e-02   4.32700000e-02   3.58100000e-03   1.63500000e-02\n",
      "    2.23300000e-01   5.52100000e-02]\n",
      " [  1.88200000e+01   2.19700000e+01   1.23700000e+02   1.11000000e+03\n",
      "    1.01800000e-01   1.38900000e-01   1.59400000e-01   8.74400000e-02\n",
      "    1.94300000e-01   6.13200000e-02   8.19100000e-01   1.93100000e+00\n",
      "    4.49300000e+00   1.03900000e+02   8.07400000e-03   4.08800000e-02\n",
      "    5.32100000e-02   1.83400000e-02   2.38300000e-02   4.51500000e-03\n",
      "    2.26600000e+01   3.09300000e+01   1.45300000e+02   1.60300000e+03\n",
      "    1.39000000e-01   3.46300000e-01   3.91200000e-01   1.70800000e-01\n",
      "    3.00700000e-01   8.31400000e-02]]\n",
      "149909.201839\n",
      "CPU times: user 28.9 s, sys: 208 ms, total: 29.1 s\n",
      "Wall time: 29.6 s\n"
     ]
    }
   ],
   "source": [
    "%%time\n",
    "custModel = CustomKMedoids(k=2).fit(X)\n",
    "print(custModel.cluster_centers_)\n",
    "print(custModel.cost_)"
   ]
  },
  {
   "cell_type": "markdown",
   "metadata": {},
   "source": [
    "## Wikipedia Example"
   ]
  },
  {
   "cell_type": "code",
   "execution_count": 7,
   "metadata": {
    "collapsed": true
   },
   "outputs": [],
   "source": [
    "X = np.array([[2,6],[3,4],[3,8],[4,7],[6,2],[6,4],[7,3],[7,4],[8,5],[7,6]])"
   ]
  },
  {
   "cell_type": "code",
   "execution_count": 8,
   "metadata": {},
   "outputs": [
    {
     "data": {
      "image/png": "[encoded data removed]",
      "text/plain": [
       "<matplotlib.figure.Figure at 0x1a10a6d198>"
      ]
     },
     "metadata": {},
     "output_type": "display_data"
    }
   ],
   "source": [
    "plt.scatter(X[:,0], X[:,1])\n",
    "plt.show()"
   ]
  },
  {
   "cell_type": "code",
   "execution_count": 9,
   "metadata": {},
   "outputs": [
    {
     "name": "stdout",
     "output_type": "stream",
     "text": [
      "[[2 6]\n",
      " [7 4]]\n",
      "14.3584854724\n"
     ]
    }
   ],
   "source": [
    "custModel = CustomKMedoids(k=2).fit(X)\n",
    "print(custModel.cluster_centers_)\n",
    "print(custModel.cost_)"
   ]
  },
  {
   "cell_type": "code",
   "execution_count": 10,
   "metadata": {},
   "outputs": [
    {
     "data": {
      "image/png": "[encoded data removed]",
      "text/plain": [
       "<matplotlib.figure.Figure at 0x1a10acedd8>"
      ]
     },
     "metadata": {},
     "output_type": "display_data"
    }
   ],
   "source": [
    "clusters = custModel.clusters_\n",
    "for k in clusters:\n",
    "    plt.scatter(np.array(clusters[k])[:,0], np.array(clusters[k])[:,1])\n",
    "plt.scatter(custModel.cluster_centers_[:,0], custModel.cluster_centers_[:,1])\n",
    "plt.show()"
   ]
  },
  {
   "cell_type": "markdown",
   "metadata": {},
   "source": [
    "### Custom Dataset"
   ]
  },
  {
   "cell_type": "code",
   "execution_count": 14,
   "metadata": {},
   "outputs": [
    {
     "data": {
      "image/png": "[encoded data removed]",
      "text/plain": [
       "<matplotlib.figure.Figure at 0x1a10b4d2b0>"
      ]
     },
     "metadata": {},
     "output_type": "display_data"
    }
   ],
   "source": [
    "data = make_blobs(n_samples=100, centers=3)\n",
    "X = data[0]\n",
    "y = data[1]\n",
    "\n",
    "plt.scatter(X[:,0], X[:,1])\n",
    "plt.show()"
   ]
  },
  {
   "cell_type": "code",
   "execution_count": 15,
   "metadata": {},
   "outputs": [
    {
     "name": "stdout",
     "output_type": "stream",
     "text": [
      "[[-2.45737171  7.84560728]\n",
      " [-9.39443332  7.40382502]\n",
      " [-9.77404429 -3.07253358]]\n",
      "117.19670841\n"
     ]
    }
   ],
   "source": [
    "custModel = CustomKMedoids(k=3, plot=True).fit(X)\n",
    "print(custModel.cluster_centers_)\n",
    "print(custModel.cost_)"
   ]
  },
  {
   "cell_type": "code",
   "execution_count": 16,
   "metadata": {},
   "outputs": [
    {
     "data": {
      "image/png": "[encoded data removed]",
      "text/plain": [
       "<matplotlib.figure.Figure at 0x1a10c3e9b0>"
      ]
     },
     "metadata": {},
     "output_type": "display_data"
    }
   ],
   "source": [
    "clusters = custModel.clusters_\n",
    "for k in clusters:\n",
    "    plt.scatter(np.array(clusters[k])[:,0], np.array(clusters[k])[:,1])\n",
    "plt.scatter(custModel.cluster_centers_[:,0], custModel.cluster_centers_[:,1])\n",
    "plt.show()"
   ]
  }
 ],
 "metadata": {
  "kernelspec": {
   "display_name": "Python 3",
   "language": "python",
   "name": "python3"
  },
  "language_info": {
   "codemirror_mode": {
    "name": "ipython",
    "version": 3
   },
   "file_extension": ".py",
   "mimetype": "text/x-python",
   "name": "python",
   "nbconvert_exporter": "python",
   "pygments_lexer": "ipython3",
   "version": "3.6.3"
  },
  "varInspector": {
   "cols": {
    "lenName": 16,
    "lenType": 16,
    "lenVar": 40
   },
   "kernels_config": {
    "python": {
     "delete_cmd_postfix": "",
     "delete_cmd_prefix": "del ",
     "library": "var_list.py",
     "varRefreshCmd": "print(var_dic_list())"
    },
    "r": {
     "delete_cmd_postfix": ") ",
     "delete_cmd_prefix": "rm(",
     "library": "var_list.r",
     "varRefreshCmd": "cat(var_dic_list()) "
    }
   },
   "types_to_exclude": [
    "module",
    "function",
    "builtin_function_or_method",
    "instance",
    "_Feature"
   ],
   "window_display": false
  }
 },
 "nbformat": 4,
 "nbformat_minor": 2
}
