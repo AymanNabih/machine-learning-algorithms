{
 "cells": [
  {
   "cell_type": "markdown",
   "metadata": {
    "collapsed": true
   },
   "source": [
    "# Introduction"
   ]
  },
  {
   "cell_type": "markdown",
   "metadata": {},
   "source": [
    "# Setup"
   ]
  },
  {
   "cell_type": "markdown",
   "metadata": {},
   "source": [
    "## Imports"
   ]
  },
  {
   "cell_type": "code",
   "execution_count": 556,
   "metadata": {
    "collapsed": true
   },
   "outputs": [],
   "source": [
    "import numpy as np\n",
    "import pandas as pd\n",
    "import matplotlib.pyplot as plt\n",
    "from sklearn.base import BaseEstimator, ClusterMixin\n",
    "from sklearn.preprocessing import StandardScaler\n",
    "from sklearn.cluster import MeanShift\n",
    "from sklearn.model_selection import train_test_split\n",
    "from sklearn.datasets import load_iris, load_breast_cancer, load_digits"
   ]
  },
  {
   "cell_type": "markdown",
   "metadata": {},
   "source": [
    "## Dataset"
   ]
  },
  {
   "cell_type": "code",
   "execution_count": 559,
   "metadata": {},
   "outputs": [],
   "source": [
    "iris = load_iris()\n",
    "breast = load_breast_cancer()\n",
    "digits = load_digits()"
   ]
  },
  {
   "cell_type": "markdown",
   "metadata": {},
   "source": [
    "# MeanShift"
   ]
  },
  {
   "cell_type": "code",
   "execution_count": 548,
   "metadata": {},
   "outputs": [],
   "source": [
    "class CustomMeanShift(BaseEstimator, ClusterMixin):\n",
    "    def __init__(self, radius=5, max_iter=300, tol=0.0001):\n",
    "        self.radius = radius\n",
    "        self.max_iter = max_iter\n",
    "        self.tol = tol\n",
    "        \n",
    "        \n",
    "    def fit(self, X):\n",
    "        self.X = X\n",
    "        self._check_params(self.X)\n",
    "        \n",
    "        self._meanshift(self.X)\n",
    "        self.fitted_ = True\n",
    "        \n",
    "        return self\n",
    "        \n",
    "    \n",
    "    def _meanshift(self, X):\n",
    "        #initially setting each point as a independent centroid\n",
    "        centroids = pd.DataFrame(X).drop_duplicates().values\n",
    "\n",
    "        while True:\n",
    "            new_centroids = []\n",
    "            \n",
    "            #getting new centroids\n",
    "            for centroid in centroids:\n",
    "                points_in_radius = []\n",
    "                \n",
    "                #getting all points that are in bandwidth of current centroid\n",
    "                for x in X:\n",
    "                    if np.linalg.norm(x - centroid) <= self.radius:\n",
    "                        points_in_radius.append(x)\n",
    "\n",
    "                #computing new centroid by taking mean of all points present in current centroid's bandwidth\n",
    "                new_centroid = np.mean(points_in_radius, axis=0)\n",
    "                new_centroids.append(new_centroid)\n",
    "\n",
    "            #assigning previous centroids to new variable\n",
    "            prev_centroids = centroids\n",
    "            \n",
    "            #assigning new centroids obtained\n",
    "            #taking unique centroids from our list of new centroids\n",
    "            centroids = pd.DataFrame(new_centroids).drop_duplicates().values\n",
    "\n",
    "            #if no of new centroids is less than no of old centroids then skipping\n",
    "            if len(centroids) < len(prev_centroids):\n",
    "                continue\n",
    "                \n",
    "            #else if centroids present in our new and old centroids are close(tolerance) enough then finishing\n",
    "            optimized = True\n",
    "            for i,centroid in enumerate(centroids):\n",
    "                if not np.isclose(centroids[i], prev_centroids[i], atol=0.0001).all():\n",
    "                    optimized = False\n",
    "                    break\n",
    "            if optimized: break\n",
    "                \n",
    "        self.cluster_centers_ = centroids\n",
    "    \n",
    "        \n",
    "    def predict(self, X):\n",
    "        if self.fitted_ == None:\n",
    "            raise Exception('\"predict()\" called before fit()')\n",
    "        else:\n",
    "            pass\n",
    "    \n",
    "    \n",
    "    def _check_params(self, X):\n",
    "        pass"
   ]
  },
  {
   "cell_type": "markdown",
   "metadata": {},
   "source": [
    "# CustomMeanShift vs MeanShift"
   ]
  },
  {
   "cell_type": "markdown",
   "metadata": {},
   "source": [
    "### Breast Canccer Dataset"
   ]
  },
  {
   "cell_type": "code",
   "execution_count": 580,
   "metadata": {},
   "outputs": [],
   "source": [
    "dataset = breast\n",
    "X = dataset.data\n",
    "y = dataset.target"
   ]
  },
  {
   "cell_type": "code",
   "execution_count": 582,
   "metadata": {},
   "outputs": [],
   "source": [
    "skModel = MeanShift(bandwidth=800).fit(X)\n",
    "custModel = CustomMeanShift(radius=800).fit(X)"
   ]
  },
  {
   "cell_type": "code",
   "execution_count": 583,
   "metadata": {},
   "outputs": [
    {
     "name": "stdout",
     "output_type": "stream",
     "text": [
      "(2, 30)\n",
      "(2, 30)\n",
      "(3, 30)\n"
     ]
    }
   ],
   "source": [
    "print(skModel.cluster_centers_.shape)\n",
    "print(custModel.cluster_centers_.shape)\n",
    "print(pd.DataFrame(np.vstack((skModel.cluster_centers_, custModel.cluster_centers_))).drop_duplicates().values.shape)"
   ]
  },
  {
   "cell_type": "code",
   "execution_count": 585,
   "metadata": {},
   "outputs": [
    {
     "name": "stdout",
     "output_type": "stream",
     "text": [
      "[[  1.27937909e+01   1.86596336e+01   8.27568534e+01   5.17550431e+02\n",
      "    9.50542888e-02   9.31873276e-02   6.62066825e-02   3.57974224e-02\n",
      "    1.78625431e-01   6.32597198e-02   3.18474569e-01   1.21181659e+00\n",
      "    2.25011142e+00   2.58279052e+01   7.13251724e-03   2.37828233e-02\n",
      "    2.91449237e-02   1.08076034e-02   2.05462457e-02   3.73069677e-03\n",
      "    1.43887263e+01   2.48701724e+01   9.42817457e+01   6.55478017e+02\n",
      "    1.30479159e-01   2.29325668e-01   2.28455274e-01   9.54293987e-02\n",
      "    2.85591379e-01   8.33652802e-02]\n",
      " [  2.74200000e+01   2.62700000e+01   1.86900000e+02   2.50100000e+03\n",
      "    1.08400000e-01   1.98800000e-01   3.63500000e-01   1.68900000e-01\n",
      "    2.06100000e-01   5.62300000e-02   2.54700000e+00   1.30600000e+00\n",
      "    1.86500000e+01   5.42200000e+02   7.65000000e-03   5.37400000e-02\n",
      "    8.05500000e-02   2.59800000e-02   1.69700000e-02   4.55800000e-03\n",
      "    3.60400000e+01   3.13700000e+01   2.51200000e+02   4.25400000e+03\n",
      "    1.35700000e-01   4.25600000e-01   6.83300000e-01   2.62500000e-01\n",
      "    2.64100000e-01   7.42700000e-02]]\n",
      "\n",
      "[[  1.27937909e+01   1.86596336e+01   8.27568534e+01   5.17550431e+02\n",
      "    9.50542888e-02   9.31873276e-02   6.62066825e-02   3.57974224e-02\n",
      "    1.78625431e-01   6.32597198e-02   3.18474569e-01   1.21181659e+00\n",
      "    2.25011142e+00   2.58279052e+01   7.13251724e-03   2.37828233e-02\n",
      "    2.91449237e-02   1.08076034e-02   2.05462457e-02   3.73069677e-03\n",
      "    1.43887263e+01   2.48701724e+01   9.42817457e+01   6.55478017e+02\n",
      "    1.30479159e-01   2.29325668e-01   2.28455274e-01   9.54293987e-02\n",
      "    2.85591379e-01   8.33652802e-02]\n",
      " [  2.74200000e+01   2.62700000e+01   1.86900000e+02   2.50100000e+03\n",
      "    1.08400000e-01   1.98800000e-01   3.63500000e-01   1.68900000e-01\n",
      "    2.06100000e-01   5.62300000e-02   2.54700000e+00   1.30600000e+00\n",
      "    1.86500000e+01   5.42200000e+02   7.65000000e-03   5.37400000e-02\n",
      "    8.05500000e-02   2.59800000e-02   1.69700000e-02   4.55800000e-03\n",
      "    3.60400000e+01   3.13700000e+01   2.51200000e+02   4.25400000e+03\n",
      "    1.35700000e-01   4.25600000e-01   6.83300000e-01   2.62500000e-01\n",
      "    2.64100000e-01   7.42700000e-02]]\n",
      "\n",
      "[  1.77635684e-15   3.55271368e-15  -4.26325641e-14   3.41060513e-13\n",
      "   6.93889390e-17   1.38777878e-17   1.38777878e-17  -6.24500451e-17\n",
      "   0.00000000e+00   0.00000000e+00  -2.22044605e-16   8.88178420e-16\n",
      "   0.00000000e+00  -7.10542736e-15  -5.20417043e-18  -1.04083409e-17\n",
      "   3.46944695e-18   3.46944695e-18   3.46944695e-18   8.67361738e-19\n",
      "   1.06581410e-14  -3.55271368e-15   2.84217094e-14   5.68434189e-13\n",
      "  -1.38777878e-16  -2.77555756e-16   0.00000000e+00   1.38777878e-17\n",
      "   5.55111512e-17  -5.55111512e-17]\n"
     ]
    }
   ],
   "source": [
    "print(skModel.cluster_centers_)\n",
    "print()\n",
    "print(custModel.cluster_centers_)\n",
    "print()\n",
    "\n",
    "#unique cluster centers\n",
    "#as it can be seen that even though the 2 cluster centers are same, but due to floating point accuracies they are treated as different\n",
    "print(skModel.cluster_centers_[0] - custModel.cluster_centers_[0])"
   ]
  },
  {
   "cell_type": "markdown",
   "metadata": {},
   "source": [
    "### Iris Dataset"
   ]
  },
  {
   "cell_type": "code",
   "execution_count": 586,
   "metadata": {
    "collapsed": true
   },
   "outputs": [],
   "source": [
    "dataset = iris\n",
    "X = dataset.data\n",
    "y = dataset.target"
   ]
  },
  {
   "cell_type": "code",
   "execution_count": 587,
   "metadata": {
    "collapsed": true
   },
   "outputs": [],
   "source": [
    "skModel = MeanShift(bandwidth=1.2).fit(X)\n",
    "custModel = CustomMeanShift(radius=1.2).fit(X)"
   ]
  },
  {
   "cell_type": "code",
   "execution_count": 588,
   "metadata": {},
   "outputs": [
    {
     "name": "stdout",
     "output_type": "stream",
     "text": [
      "(2, 4)\n",
      "(7, 4)\n",
      "(9, 4)\n"
     ]
    }
   ],
   "source": [
    "print(skModel.cluster_centers_.shape)\n",
    "print(custModel.cluster_centers_.shape)\n",
    "\n",
    "#unique cluster centers\n",
    "print(pd.DataFrame(np.vstack((skModel.cluster_centers_, custModel.cluster_centers_))).drop_duplicates().values.shape)"
   ]
  },
  {
   "cell_type": "code",
   "execution_count": 589,
   "metadata": {},
   "outputs": [
    {
     "name": "stdout",
     "output_type": "stream",
     "text": [
      "[[ 6.21142857  2.89285714  4.85285714  1.67285714]\n",
      " [ 5.01632653  3.44081633  1.46734694  0.24285714]]\n",
      "\n",
      "[[ 5.01632653  3.44081633  1.46734694  0.24285714]\n",
      " [ 5.00208333  3.42083333  1.46666667  0.23958333]\n",
      " [ 6.21142857  2.89285714  4.85285714  1.67285714]\n",
      " [ 6.15217391  2.85072464  4.74057971  1.60724638]\n",
      " [ 6.18529412  2.87058824  4.80588235  1.63970588]\n",
      " [ 6.17272727  2.87424242  4.77575758  1.62878788]\n",
      " [ 6.19275362  2.87681159  4.81884058  1.64637681]]\n"
     ]
    }
   ],
   "source": [
    "print(skModel.cluster_centers_)\n",
    "print()\n",
    "print(custModel.cluster_centers_)"
   ]
  }
 ],
 "metadata": {
  "kernelspec": {
   "display_name": "Python 3",
   "language": "python",
   "name": "python3"
  },
  "language_info": {
   "codemirror_mode": {
    "name": "ipython",
    "version": 3
   },
   "file_extension": ".py",
   "mimetype": "text/x-python",
   "name": "python",
   "nbconvert_exporter": "python",
   "pygments_lexer": "ipython3",
   "version": "3.6.3"
  },
  "varInspector": {
   "cols": {
    "lenName": 16,
    "lenType": 16,
    "lenVar": 40
   },
   "kernels_config": {
    "python": {
     "delete_cmd_postfix": "",
     "delete_cmd_prefix": "del ",
     "library": "var_list.py",
     "varRefreshCmd": "print(var_dic_list())"
    },
    "r": {
     "delete_cmd_postfix": ") ",
     "delete_cmd_prefix": "rm(",
     "library": "var_list.r",
     "varRefreshCmd": "cat(var_dic_list()) "
    }
   },
   "types_to_exclude": [
    "module",
    "function",
    "builtin_function_or_method",
    "instance",
    "_Feature"
   ],
   "window_display": false
  }
 },
 "nbformat": 4,
 "nbformat_minor": 2
}
