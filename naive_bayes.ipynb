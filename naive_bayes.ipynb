{
 "cells": [
  {
   "cell_type": "markdown",
   "metadata": {},
   "source": [
    "# Introduction"
   ]
  },
  {
   "cell_type": "markdown",
   "metadata": {},
   "source": [
    "# Setup"
   ]
  },
  {
   "cell_type": "markdown",
   "metadata": {},
   "source": [
    "## Imports"
   ]
  },
  {
   "cell_type": "code",
   "execution_count": 2,
   "metadata": {
    "collapsed": true
   },
   "outputs": [],
   "source": [
    "import math\n",
    "import pprint\n",
    "\n",
    "import numpy as np\n",
    "import pandas as pd\n",
    "import matplotlib.pyplot as plt\n",
    "\n",
    "from sklearn.model_selection import train_test_split, cross_val_score\n",
    "from sklearn.metrics import accuracy_score\n",
    "from sklearn.datasets import load_iris, load_breast_cancer, load_boston\n",
    "from sklearn.naive_bayes import GaussianNB, MultinomialNB\n",
    "from sklearn.base import BaseEstimator, ClassifierMixin"
   ]
  },
  {
   "cell_type": "markdown",
   "metadata": {},
   "source": [
    "## Loading Dataset"
   ]
  },
  {
   "cell_type": "code",
   "execution_count": 133,
   "metadata": {
    "collapsed": true
   },
   "outputs": [],
   "source": [
    "dataset = np.array([\n",
    "    [1,1,1],\n",
    "    [0,0,1],\n",
    "    [1,1,1],\n",
    "    [1,1,1],\n",
    "    [1,1,1],\n",
    "    [0,0,0],\n",
    "    [0,0,0],\n",
    "    [1,1,0],\n",
    "    [1,0,0],\n",
    "    [0,0,0],\n",
    "])\n",
    "\n",
    "X = dataset[:,0:2]\n",
    "y = dataset[:,2]"
   ]
  },
  {
   "cell_type": "markdown",
   "metadata": {},
   "source": [
    "# Simple NaiveBayes"
   ]
  },
  {
   "cell_type": "code",
   "execution_count": 138,
   "metadata": {
    "collapsed": true
   },
   "outputs": [],
   "source": [
    "class CustomSimpleNB(BaseEstimator, ClassifierMixin):\n",
    "    def __init__(self):\n",
    "        pass\n",
    "    \n",
    "    def fit(self, X, y=None):\n",
    "        self._check_params(X, y)\n",
    "        \n",
    "        self.classes = list(set(y))\n",
    "        self.xdim = X.shape[1]\n",
    "        self._naive_bayes(X, y)\n",
    "        \n",
    "        self.fitted_ = True\n",
    "        \n",
    "        return self\n",
    "    \n",
    "    \n",
    "    def predict(self, X):\n",
    "        if self.fitted_ == None:\n",
    "            raise Exception('\"predict()\" called before fit()')\n",
    "        else:\n",
    "            y_preds = []\n",
    "            for x in X:\n",
    "                y_pred = None\n",
    "                probs = dict.fromkeys(self.classes, 1)\n",
    "                \n",
    "                for c in self.classes:\n",
    "                    probs[c] = probs[c] * self.class_probs[c]\n",
    "                    for i in range(self.xdim):\n",
    "                        probs[c] = probs[c] * (self.feature_probs[i][c][x[i]])\n",
    "                    \n",
    "                y_pred = max(probs, key=(lambda k: probs[k]))\n",
    "                y_preds.append(y_pred)\n",
    "            return y_preds\n",
    "        \n",
    "    \n",
    "    def _naive_bayes(self, X,y=None):\n",
    "        df = pd.DataFrame(X)\n",
    "        df['y'] = y\n",
    "        \n",
    "        #getting class probabilities\n",
    "        class_probs = self._class_probs(pd.DataFrame.copy(df))\n",
    "        \n",
    "        #calculating conditional probabilities for each feature and each value of feature over each class\n",
    "        feature_probs = {}\n",
    "        for i in range(self.xdim):\n",
    "            feature_probs[i] = self._feature_probs(df[[i, 'y']])\n",
    "            \n",
    "        self.class_probs = class_probs\n",
    "        self.feature_probs = feature_probs\n",
    "        \n",
    "        \n",
    "    def _feature_probs(self, df):\n",
    "        values = list(set(df.iloc[:,0].values))\n",
    "        probs = {}\n",
    "        \n",
    "        for c in self.classes:\n",
    "            probs[c] = {}\n",
    "            for value in values:\n",
    "                probs[c][value] = df[df.y == c][df.iloc[:,0] == value].count().y / df[df.y == c].count().y\n",
    "                \n",
    "        return probs\n",
    "            \n",
    "    \n",
    "    def _class_probs(self, df):\n",
    "        probs = {}\n",
    "        for c in self.classes:\n",
    "            probs[c] = df[df.y == c].count().y / df.count().y\n",
    "        return probs\n",
    "    \n",
    "    \n",
    "    def _check_params(self, X, y=None):\n",
    "        return"
   ]
  },
  {
   "cell_type": "code",
   "execution_count": 139,
   "metadata": {},
   "outputs": [
    {
     "name": "stderr",
     "output_type": "stream",
     "text": [
      "/Users/jaat/anaconda3/lib/python3.6/site-packages/ipykernel_launcher.py:59: UserWarning: Boolean Series key will be reindexed to match DataFrame index.\n"
     ]
    },
    {
     "data": {
      "text/plain": [
       "0.80000000000000004"
      ]
     },
     "execution_count": 139,
     "metadata": {},
     "output_type": "execute_result"
    }
   ],
   "source": [
    "custModel = CustomSimpleNB()\n",
    "custModel.fit(X, y)\n",
    "\n",
    "accuracy_score(y_pred=custModel.predict(X), y_true=y)"
   ]
  },
  {
   "cell_type": "markdown",
   "metadata": {},
   "source": [
    "# GaussianNB"
   ]
  },
  {
   "cell_type": "code",
   "execution_count": 86,
   "metadata": {
    "collapsed": true
   },
   "outputs": [],
   "source": [
    "breast = load_breast_cancer()\n",
    "iris = load_iris()\n",
    "\n",
    "dataset = iris\n",
    "X = dataset.data\n",
    "y = dataset.target\n",
    "\n",
    "xTrain, xTest, yTrain, yTest = train_test_split(X,y)"
   ]
  },
  {
   "cell_type": "code",
   "execution_count": 173,
   "metadata": {
    "collapsed": true
   },
   "outputs": [],
   "source": [
    "class CustomGaussianNB(BaseEstimator, ClassifierMixin):\n",
    "    def __init__(self):\n",
    "        pass\n",
    "    \n",
    "    def fit(self, X, y=None):\n",
    "        self._check_params(X, y)\n",
    "        \n",
    "        self.classes = list(set(y))\n",
    "        self.xdim = X.shape[1]\n",
    "        self._naive_bayes(X, y)\n",
    "        \n",
    "        self.fitted_ = True\n",
    "        \n",
    "        return self\n",
    "    \n",
    "    \n",
    "    def predict(self, X):\n",
    "        if self.fitted_ == None:\n",
    "            raise Exception('\"predict()\" called before fit()')\n",
    "        else:\n",
    "            y_preds = []\n",
    "            for x in X:\n",
    "                y_pred = None\n",
    "                probs = dict.fromkeys(self.classes, 1)\n",
    "                \n",
    "                for c in self.classes:\n",
    "                    probs[c] = self.class_probs[c]\n",
    "                    for i in range(self.xdim):\n",
    "                        probs[c] = probs[c] * self._pdf(c, i, x[i])\n",
    "                    \n",
    "                y_pred = max(probs, key=(lambda k: probs[k]))\n",
    "                y_preds.append(y_pred)\n",
    "            return y_preds\n",
    "        \n",
    "    \n",
    "    def _naive_bayes(self, X,y=None):\n",
    "        df = pd.DataFrame(X)\n",
    "        df['y'] = y\n",
    "        \n",
    "        #getting class probabilities\n",
    "        class_probs = self._class_probs(pd.DataFrame.copy(df))\n",
    "        \n",
    "        #calculating means and standard deviations for each feature to calculate Gaussian PDF.\n",
    "        ms = {}\n",
    "        for c in self.classes:\n",
    "            ms[c] = {}\n",
    "            for i in range(self.xdim):\n",
    "                ms[c][i] = {}\n",
    "                ms[c][i]['mean'] = np.mean(df[df.y == c][i].values)\n",
    "                ms[c][i]['std'] = np.std(df[df.y == c][i].values)\n",
    "            \n",
    "        self.class_probs = class_probs\n",
    "        self.ms = ms\n",
    "        self.df = df\n",
    "            \n",
    "    \n",
    "    def _pdf(self, c, i, x):\n",
    "        std = self.ms[c][i]['std']\n",
    "        mean = self.ms[c][i]['mean']\n",
    "        \n",
    "        num = math.e ** (-((x-mean) ** 2) / (2 * (std ** 2)))\n",
    "        den = math.sqrt(2 * math.pi) * std\n",
    "        return num/den\n",
    "    \n",
    "    \n",
    "    def _class_probs(self, df):\n",
    "        probs = {}\n",
    "        for c in self.classes:\n",
    "            probs[c] = df[df.y == c].count().y / df.count().y\n",
    "        return probs\n",
    "    \n",
    "    \n",
    "    def _check_params(self, X, y=None):\n",
    "        return"
   ]
  },
  {
   "cell_type": "markdown",
   "metadata": {},
   "source": [
    "### CustomGaussianNB vs GaussianNB"
   ]
  },
  {
   "cell_type": "code",
   "execution_count": 179,
   "metadata": {},
   "outputs": [
    {
     "name": "stdout",
     "output_type": "stream",
     "text": [
      "[ 0.88888889  1.          1.          0.85714286  1.        ]\n",
      "[ 0.88888889  1.          1.          0.85714286  1.        ]\n"
     ]
    }
   ],
   "source": [
    "skModel = GaussianNB()\n",
    "custModel = CustomGaussianNB()\n",
    "\n",
    "skModel.fit(xTrain, yTrain)\n",
    "custModel.fit(xTrain, yTrain)\n",
    "\n",
    "print(cross_val_score(estimator=skModel, cv=5, X=xTest, y=yTest))\n",
    "print(cross_val_score(estimator=custModel, cv=5, X=xTest, y=yTest))"
   ]
  },
  {
   "cell_type": "markdown",
   "metadata": {},
   "source": [
    "# MultinomialNB"
   ]
  },
  {
   "cell_type": "code",
   "execution_count": 111,
   "metadata": {
    "collapsed": true
   },
   "outputs": [],
   "source": [
    "class CustomMultinomialNB(BaseEstimator, ClassifierMixin):\n",
    "    def __init__(self):\n",
    "        pass\n",
    "    \n",
    "    def fit(self, X, y=None):\n",
    "        self._check_params(X, y)\n",
    "        \n",
    "        self.classes = list(set(y))\n",
    "        self.xdim = X.shape[1]\n",
    "        self._naive_bayes(X, y)\n",
    "        \n",
    "        self.fitted_ = True\n",
    "        \n",
    "        return self\n",
    "    \n",
    "    \n",
    "    def predict(self, X):\n",
    "        if self.fitted_ == None:\n",
    "            raise Exception('\"predict()\" called before fit()')\n",
    "        else:\n",
    "            y_preds = []\n",
    "            _ = 1\n",
    "            for x in X:\n",
    "                printl('{0}/{1}'.format(_, X.shape[0]))\n",
    "                _ += 1\n",
    "                y_pred = None\n",
    "                probs = dict.fromkeys(self.classes, 1)\n",
    "                \n",
    "                for c in self.classes:\n",
    "                    probs[c] = self.cprobs[0]\n",
    "                    for i in range(self.xdim):\n",
    "                        probs[c] = probs[c] * (self.fprobs[c][i] ** x[i])\n",
    "                y_pred = max(probs, key=(lambda k: probs[k]))\n",
    "                y_preds.append(y_pred)\n",
    "            print()\n",
    "            return y_preds\n",
    "        \n",
    "    \n",
    "    def _naive_bayes(self, X,y=None):\n",
    "        printl('constructing dataframe...')\n",
    "        ds = np.hstack((X,y.reshape(-1,1)))\n",
    "        self.cprobs, self.fprobs = self._probs(ds)\n",
    "        \n",
    "        \n",
    "    def _probs(self, ds):\n",
    "        cprobs = {}\n",
    "        fprobs = {}\n",
    "        \n",
    "        for c in self.classes:\n",
    "            printl('calculating class and feature probabilities for class {0}/{1}...'.format(c+1, len(self.classes)))\n",
    "            temp = ds[ds[:,-1] == c]\n",
    "            cprobs[c] = np.log(temp.shape[0] / ds.shape[0])\n",
    "            fprobs[c] = np.log((temp.sum(axis=0) + 1) / (temp[:,:-1].sum() + ds.shape[1] - 1))\n",
    "        print()\n",
    "            \n",
    "        return cprobs, fprobs\n",
    "    \n",
    "    \n",
    "    def _check_params(self, X, y=None):\n",
    "        return"
   ]
  },
  {
   "cell_type": "code",
   "execution_count": 109,
   "metadata": {
    "collapsed": true
   },
   "outputs": [],
   "source": [
    "breast = load_breast_cancer()\n",
    "iris = load_iris()\n",
    "\n",
    "dataset = iris\n",
    "X = dataset.data\n",
    "y = dataset.target\n",
    "\n",
    "xTrain, xTest, yTrain, yTest = train_test_split(X,y)"
   ]
  },
  {
   "cell_type": "markdown",
   "metadata": {},
   "source": [
    "### CustomMultinomialNB vs MultinomialNB"
   ]
  },
  {
   "cell_type": "code",
   "execution_count": 110,
   "metadata": {},
   "outputs": [
    {
     "name": "stdout",
     "output_type": "stream",
     "text": [
      "[ 1.          0.75        0.625       0.57142857  0.66666667]\n",
      "[ 1.          0.75        0.625       0.57142857  0.66666667]\n"
     ]
    }
   ],
   "source": [
    "skModel = MultinomialNB().fit(xTrain, yTrain)\n",
    "custModel = CustomMultinomialNB().fit(xTrain, yTrain)\n",
    "\n",
    "print(cross_val_score(estimator=skModel, cv=5, X=xTest, y=yTest))\n",
    "print(cross_val_score(estimator=custModel, cv=5, X=xTest, y=yTest))"
   ]
  }
 ],
 "metadata": {
  "kernelspec": {
   "display_name": "Python 3",
   "language": "python",
   "name": "python3"
  },
  "language_info": {
   "codemirror_mode": {
    "name": "ipython",
    "version": 3
   },
   "file_extension": ".py",
   "mimetype": "text/x-python",
   "name": "python",
   "nbconvert_exporter": "python",
   "pygments_lexer": "ipython3",
   "version": "3.6.3"
  },
  "varInspector": {
   "cols": {
    "lenName": 16,
    "lenType": 16,
    "lenVar": 40
   },
   "kernels_config": {
    "python": {
     "delete_cmd_postfix": "",
     "delete_cmd_prefix": "del ",
     "library": "var_list.py",
     "varRefreshCmd": "print(var_dic_list())"
    },
    "r": {
     "delete_cmd_postfix": ") ",
     "delete_cmd_prefix": "rm(",
     "library": "var_list.r",
     "varRefreshCmd": "cat(var_dic_list()) "
    }
   },
   "types_to_exclude": [
    "module",
    "function",
    "builtin_function_or_method",
    "instance",
    "_Feature"
   ],
   "window_display": false
  }
 },
 "nbformat": 4,
 "nbformat_minor": 2
}
