{
 "cells": [
  {
   "cell_type": "markdown",
   "metadata": {
    "collapsed": true
   },
   "source": [
    "# Introduction\n",
    "\n",
    "In this notebook I have implemented Logistic Regression algorithm.<br>\n",
    "To use and take advantage of sklearn's consisten and easy to use interface, I will creating our custom implementation using sklearn's base classes **BaseEstimator**, **ClassificatinMixin**.\n",
    "\n",
    "The name Logistic Regression is misleading because Logistic Regression is a classification algorithm. It is a probability based model that predicts the binary labels using their probability.<br>\n",
    "\n",
    "Logisitc Regression can also do Multi-class Classification."
   ]
  },
  {
   "cell_type": "code",
   "execution_count": 67,
   "metadata": {
    "collapsed": true
   },
   "outputs": [],
   "source": [
    "import math\n",
    "import numpy as np\n",
    "import pandas as pd\n",
    "import matplotlib.pyplot as plt\n",
    "\n",
    "from sklearn.model_selection import train_test_split, cross_val_score\n",
    "from sklearn.metrics import accuracy_score\n",
    "from sklearn.datasets import load_breast_cancer\n",
    "from sklearn.preprocessing import StandardScaler\n",
    "from sklearn.linear_model import LogisticRegression, SGDClassifier\n",
    "from sklearn.base import BaseEstimator, ClassifierMixin"
   ]
  },
  {
   "cell_type": "markdown",
   "metadata": {
    "collapsed": true
   },
   "source": [
    "# Preprocessing"
   ]
  },
  {
   "cell_type": "markdown",
   "metadata": {
    "collapsed": true
   },
   "source": [
    "## Loading Dataset"
   ]
  },
  {
   "cell_type": "code",
   "execution_count": 68,
   "metadata": {
    "collapsed": true
   },
   "outputs": [],
   "source": [
    "breast = load_breast_cancer()\n",
    "dataset = breast\n",
    "\n",
    "X = dataset.data\n",
    "y = dataset.target\n",
    "\n",
    "xTrain, xTest, yTrain, yTest = train_test_split(X,y)\n",
    "\n",
    "sc = StandardScaler().fit(xTrain)\n",
    "xTrain = sc.transform(xTrain)\n",
    "xTest = sc.transform(xTest)"
   ]
  },
  {
   "cell_type": "markdown",
   "metadata": {
    "collapsed": true
   },
   "source": [
    "# Logistic Regression\n",
    "\n",
    "Logistic Regression is built on a mathematical function called Logisitc Function, whose output is always between 0 and 1, the value of output is the probability of a feature being class 1.<br>\n",
    "\n",
    "Let's look at the various formulas related to logisitic regression. <br>\n",
    "\n",
    "**Logistic Function: **\n",
    "## $ f(x) = \\frac{1}{1 + e^{-(b_0 + b_1*x_1)}} $\n",
    "where \"m\" refers to slope that we compute in Linear Regression"
   ]
  },
  {
   "cell_type": "code",
   "execution_count": 86,
   "metadata": {
    "collapsed": true
   },
   "outputs": [],
   "source": [
    "# Custom Logistic Regression\n",
    "class CustomLogisticRegression(BaseEstimator, ClassifierMixin):\n",
    "    def __init__(self, max_iter=1000, alpha=0.0001):\n",
    "        self.max_iter = max_iter\n",
    "        self.alpha = alpha\n",
    "    \n",
    "    \n",
    "    def fit(self, X, y=None):\n",
    "        self._check_params(X, y)\n",
    "        self._logistic_regression(X, y)\n",
    "        self.fitted_ = True\n",
    "        \n",
    "        return self\n",
    "    \n",
    "    \n",
    "    def predict(self, X):\n",
    "        if self.fitted_ == None:\n",
    "            raise Exception('\"predict()\" called before fit()')\n",
    "        else:\n",
    "            ones = np.ones((X.shape[0], 1))\n",
    "            X = np.hstack((ones, X))\n",
    "            \n",
    "            ys = np.dot(X, self.ms)\n",
    "            ps = self._sigmoid(ys)\n",
    "            y_pred = np.round(ps)\n",
    "            \n",
    "            return y_pred\n",
    "    \n",
    "    \n",
    "    def _sigmoid(self, y):\n",
    "        return np.exp(y) / (1 + np.exp(y))\n",
    "    \n",
    "    \n",
    "    def _logistic_regression(self, X,y=None):\n",
    "        ones = np.ones((X.shape[0], 1))\n",
    "        X = np.hstack((ones, X))\n",
    "        \n",
    "        ms = np.zeros(X.shape[1])\n",
    "        \n",
    "        for i in range(self.max_iter):\n",
    "            ys = np.dot(X, ms)\n",
    "            ps = self._sigmoid(ys)\n",
    "            \n",
    "            errors = y - ps\n",
    "            slope = np.dot(X.T, errors)\n",
    "            \n",
    "            ms += self.alpha * slope\n",
    "        self.ms = ms\n",
    "        return\n",
    "    \n",
    "    \n",
    "    def _check_params(self, X, y=None):\n",
    "        pass"
   ]
  },
  {
   "cell_type": "markdown",
   "metadata": {},
   "source": [
    "### LogisticRegression vs CustomLogisiticRegression"
   ]
  },
  {
   "cell_type": "code",
   "execution_count": 87,
   "metadata": {},
   "outputs": [
    {
     "name": "stdout",
     "output_type": "stream",
     "text": [
      "[ 0.93333333  1.          1.          1.          0.89285714]\n",
      "[ 0.96666667  1.          1.          1.          0.89285714]\n"
     ]
    }
   ],
   "source": [
    "skModel = LogisticRegression(max_iter=1000).fit(xTrain, yTrain)\n",
    "custModel = CustomLogisticRegression().fit(xTrain, yTrain)\n",
    "\n",
    "print(cross_val_score(cv=5,estimator=skModel,X=xTest,y=yTest))\n",
    "print(cross_val_score(cv=5,estimator=custModel,X=xTest,y=yTest))"
   ]
  },
  {
   "cell_type": "markdown",
   "metadata": {},
   "source": [
    "# Stochastic Gradient Descent Classifier"
   ]
  },
  {
   "cell_type": "code",
   "execution_count": 107,
   "metadata": {
    "collapsed": true
   },
   "outputs": [],
   "source": [
    "class CustomSGDClassifier(BaseEstimator, ClassifierMixin):\n",
    "    def __init__(self, max_iter=1000, alpha=0.0001):\n",
    "        self.max_iter = max_iter\n",
    "        self.alpha = alpha\n",
    "    \n",
    "    \n",
    "    def fit(self, X, y=None):\n",
    "        self._check_params(X, y)\n",
    "        self._logistic_regression(X, y)\n",
    "        self.fitted_ = True\n",
    "        \n",
    "        return self\n",
    "    \n",
    "    \n",
    "    def predict(self, X):\n",
    "        if self.fitted_ == None:\n",
    "            raise Exception('\"predict()\" called before fit()')\n",
    "        else:\n",
    "            ones = np.ones((X.shape[0], 1))\n",
    "            X = np.hstack((ones, X))\n",
    "            \n",
    "            ys = np.dot(X, self.ms)\n",
    "            ps = self._sigmoid(ys)\n",
    "            y_pred = np.round(ps)\n",
    "            \n",
    "            return y_pred\n",
    "    \n",
    "    \n",
    "    def _sigmoid(self, y):\n",
    "        return np.exp(y) / (1 + np.exp(y))\n",
    "    \n",
    "    \n",
    "    def _logistic_regression(self, X,y=None):\n",
    "        ones = np.ones((X.shape[0], 1))\n",
    "        X = np.hstack((ones, X))\n",
    "        \n",
    "        ms = np.zeros(X.shape[1])\n",
    "        \n",
    "        for _ in range(self.max_iter):\n",
    "            for i in range(X.shape[0]):\n",
    "                ys = np.dot(X[i,:], ms)\n",
    "                ps = self._sigmoid([ys])[0]\n",
    "\n",
    "                error = y[i] - ps\n",
    "                slope = np.dot(X[i,:].T, error)\n",
    "\n",
    "                ms += self.alpha * slope\n",
    "        self.ms = ms\n",
    "        return\n",
    "    \n",
    "    \n",
    "    def _check_params(self, X, y=None):\n",
    "        pass"
   ]
  },
  {
   "cell_type": "code",
   "execution_count": 108,
   "metadata": {},
   "outputs": [
    {
     "name": "stdout",
     "output_type": "stream",
     "text": [
      "[ 0.93333333  0.96551724  0.96428571  1.          0.92857143]\n",
      "[ 0.96666667  1.          1.          1.          0.89285714]\n"
     ]
    }
   ],
   "source": [
    "skModel = SGDClassifier(max_iter=1000).fit(xTrain, yTrain)\n",
    "custModel = CustomSGDClassifier().fit(xTrain, yTrain)\n",
    "\n",
    "print(cross_val_score(cv=5,estimator=skModel,X=xTest,y=yTest))\n",
    "print(cross_val_score(cv=5,estimator=custModel,X=xTest,y=yTest))"
   ]
  }
 ],
 "metadata": {
  "kernelspec": {
   "display_name": "Python 3",
   "language": "python",
   "name": "python3"
  },
  "language_info": {
   "codemirror_mode": {
    "name": "ipython",
    "version": 3
   },
   "file_extension": ".py",
   "mimetype": "text/x-python",
   "name": "python",
   "nbconvert_exporter": "python",
   "pygments_lexer": "ipython3",
   "version": "3.6.3"
  },
  "varInspector": {
   "cols": {
    "lenName": 16,
    "lenType": 16,
    "lenVar": 40
   },
   "kernels_config": {
    "python": {
     "delete_cmd_postfix": "",
     "delete_cmd_prefix": "del ",
     "library": "var_list.py",
     "varRefreshCmd": "print(var_dic_list())"
    },
    "r": {
     "delete_cmd_postfix": ") ",
     "delete_cmd_prefix": "rm(",
     "library": "var_list.r",
     "varRefreshCmd": "cat(var_dic_list()) "
    }
   },
   "oldHeight": 351,
   "position": {
    "height": "40px",
    "left": "1070px",
    "right": "20px",
    "top": "120px",
    "width": "339px"
   },
   "types_to_exclude": [
    "module",
    "function",
    "builtin_function_or_method",
    "instance",
    "_Feature"
   ],
   "varInspector_section_display": "none",
   "window_display": true
  }
 },
 "nbformat": 4,
 "nbformat_minor": 2
}
