{
 "cells": [
  {
   "cell_type": "markdown",
   "metadata": {},
   "source": [
    "# Introduction"
   ]
  },
  {
   "cell_type": "code",
   "execution_count": 105,
   "metadata": {
    "collapsed": true
   },
   "outputs": [],
   "source": [
    "import pprint\n",
    "\n",
    "import numpy as np\n",
    "import pandas as pd\n",
    "import matplotlib.pyplot as plt\n",
    "\n",
    "from sklearn.preprocessing import StandardScaler\n",
    "from sklearn.model_selection import train_test_split\n",
    "from sklearn import datasets\n",
    "from sklearn.decomposition import PCA\n",
    "from sklearn.base import TransformerMixin"
   ]
  },
  {
   "cell_type": "markdown",
   "metadata": {},
   "source": [
    "# Preprocessing"
   ]
  },
  {
   "cell_type": "markdown",
   "metadata": {
    "collapsed": true
   },
   "source": [
    "## Loading Dataset"
   ]
  },
  {
   "cell_type": "code",
   "execution_count": 106,
   "metadata": {
    "collapsed": true
   },
   "outputs": [],
   "source": [
    "iris = datasets.load_iris()\n",
    "breast = datasets.load_breast_cancer()\n",
    "\n",
    "dataset = iris\n",
    "X = dataset.data\n",
    "y = dataset.target\n",
    "\n",
    "xTrain, xTest, yTrain, yTest = train_test_split(X,y)\n",
    "\n",
    "sc = StandardScaler().fit(xTrain)\n",
    "xTrain = sc.transform(xTrain)\n",
    "xTest = sc.transform(xTest)"
   ]
  },
  {
   "cell_type": "markdown",
   "metadata": {},
   "source": [
    "# PCA - Principal Component Analysis"
   ]
  },
  {
   "cell_type": "code",
   "execution_count": 120,
   "metadata": {
    "collapsed": true
   },
   "outputs": [],
   "source": [
    "class CustomPCA(TransformerMixin):\n",
    "    def __init__(self, n_components=None):\n",
    "        self.n_components = n_components\n",
    "    \n",
    "    \n",
    "    def fit(self, X, y=None):\n",
    "        self._check_params(X, y)\n",
    "        self._pca(X, y)\n",
    "        \n",
    "        return self\n",
    "    \n",
    "    \n",
    "    def fit_transform(self, X, y=None):\n",
    "        self.fit(X, y)\n",
    "        return self.transform(X,y)\n",
    "    \n",
    "    \n",
    "    def transform(self, X, y=None):\n",
    "        projection_matrix = np.hstack(tuple([pair[1].reshape(pair[1].shape[0], 1) for pair in self.pairs]))\n",
    "        return X.dot(projection_matrix)\n",
    "    \n",
    "    \n",
    "    def _pca(self, X, y=None):\n",
    "        cov_matrix = np.cov(X.T)\n",
    "        eig_values, eig_vectors = np.linalg.eig(cov_matrix)\n",
    "        \n",
    "        total_variance = eig_values.sum()\n",
    "        \n",
    "        self.explained_variance_ = np.sort(eig_values)[::-1][0:self.n_components]\n",
    "        self.explained_variance_ratio_ = np.array([(value / total_variance) for value in np.sort(eig_values)[::-1][0:self.n_components]])\n",
    "        \n",
    "        pairs = [(eig_values[i], eig_vectors[:,i]) for i in range(len(eig_values))]\n",
    "        pairs.sort(key=lambda pair: pair[0], reverse=True)\n",
    "        pairs = pairs[0:self.n_components]\n",
    "        \n",
    "        self.pairs = pairs\n",
    "        \n",
    "        return\n",
    "        \n",
    "        \n",
    "    def _check_params(self, X, y):\n",
    "        if self.n_components is None:\n",
    "            self.n_components = X.shape[1]"
   ]
  },
  {
   "cell_type": "markdown",
   "metadata": {},
   "source": [
    "### CustomPCA vs PCA"
   ]
  },
  {
   "cell_type": "code",
   "execution_count": 121,
   "metadata": {
    "collapsed": true
   },
   "outputs": [],
   "source": [
    "skModel = PCA().fit(X)\n",
    "custModel = CustomPCA().fit(X)"
   ]
  },
  {
   "cell_type": "code",
   "execution_count": 122,
   "metadata": {},
   "outputs": [
    {
     "name": "stdout",
     "output_type": "stream",
     "text": [
      "[ 0.92461621  0.05301557  0.01718514  0.00518309]\n",
      "[ 0.92461621  0.05301557  0.01718514  0.00518309]\n"
     ]
    }
   ],
   "source": [
    "print(skModel.explained_variance_ratio_)\n",
    "print(custModel.explained_variance_ratio_)"
   ]
  },
  {
   "cell_type": "code",
   "execution_count": 123,
   "metadata": {},
   "outputs": [
    {
     "data": {
      "text/plain": [
       "(150, 4)"
      ]
     },
     "execution_count": 123,
     "metadata": {},
     "output_type": "execute_result"
    }
   ],
   "source": [
    "X.shape"
   ]
  },
  {
   "cell_type": "code",
   "execution_count": 124,
   "metadata": {
    "collapsed": true
   },
   "outputs": [],
   "source": [
    "skModel = PCA(n_components=2).fit(X)\n",
    "custModel = CustomPCA(n_components=2).fit(X)"
   ]
  },
  {
   "cell_type": "code",
   "execution_count": 125,
   "metadata": {},
   "outputs": [
    {
     "name": "stdout",
     "output_type": "stream",
     "text": [
      "[ 0.92461621  0.05301557]\n",
      "[ 0.92461621  0.05301557]\n"
     ]
    }
   ],
   "source": [
    "print(skModel.explained_variance_ratio_)\n",
    "print(custModel.explained_variance_ratio_)"
   ]
  },
  {
   "cell_type": "code",
   "execution_count": 126,
   "metadata": {
    "collapsed": true
   },
   "outputs": [],
   "source": [
    "skX = skModel.transform(X)\n",
    "custX = custModel.transform(X)"
   ]
  },
  {
   "cell_type": "code",
   "execution_count": 127,
   "metadata": {},
   "outputs": [
    {
     "name": "stdout",
     "output_type": "stream",
     "text": [
      "(150, 2)\n",
      "(150, 2)\n"
     ]
    }
   ],
   "source": [
    "print(skX.shape)\n",
    "print(custX.shape)"
   ]
  }
 ],
 "metadata": {
  "kernelspec": {
   "display_name": "Python 3",
   "language": "python",
   "name": "python3"
  },
  "language_info": {
   "codemirror_mode": {
    "name": "ipython",
    "version": 3
   },
   "file_extension": ".py",
   "mimetype": "text/x-python",
   "name": "python",
   "nbconvert_exporter": "python",
   "pygments_lexer": "ipython3",
   "version": "3.6.3"
  },
  "varInspector": {
   "cols": {
    "lenName": 16,
    "lenType": 16,
    "lenVar": 40
   },
   "kernels_config": {
    "python": {
     "delete_cmd_postfix": "",
     "delete_cmd_prefix": "del ",
     "library": "var_list.py",
     "varRefreshCmd": "print(var_dic_list())"
    },
    "r": {
     "delete_cmd_postfix": ") ",
     "delete_cmd_prefix": "rm(",
     "library": "var_list.r",
     "varRefreshCmd": "cat(var_dic_list()) "
    }
   },
   "oldHeight": 122,
   "position": {
    "height": "498px",
    "left": "1070px",
    "right": "20px",
    "top": "120px",
    "width": "352px"
   },
   "types_to_exclude": [
    "module",
    "function",
    "builtin_function_or_method",
    "instance",
    "_Feature"
   ],
   "varInspector_section_display": "block",
   "window_display": false
  }
 },
 "nbformat": 4,
 "nbformat_minor": 2
}
