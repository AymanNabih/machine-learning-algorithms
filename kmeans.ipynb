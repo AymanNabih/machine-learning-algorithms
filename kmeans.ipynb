{
 "cells": [
  {
   "cell_type": "markdown",
   "metadata": {},
   "source": [
    "# Introduction"
   ]
  },
  {
   "cell_type": "markdown",
   "metadata": {},
   "source": [
    "# Setup"
   ]
  },
  {
   "cell_type": "markdown",
   "metadata": {},
   "source": [
    "## Imports"
   ]
  },
  {
   "cell_type": "code",
   "execution_count": 6,
   "metadata": {
    "collapsed": true
   },
   "outputs": [],
   "source": [
    "import numpy as np\n",
    "import pandas as pd\n",
    "import matplotlib.pyplot as plt\n",
    "from sklearn.base import BaseEstimator, ClusterMixin\n",
    "from sklearn.preprocessing import StandardScaler\n",
    "from sklearn.cluster import KMeans\n",
    "from sklearn.model_selection import train_test_split\n",
    "from sklearn.datasets import load_iris"
   ]
  },
  {
   "cell_type": "markdown",
   "metadata": {},
   "source": [
    "## Dataset"
   ]
  },
  {
   "cell_type": "code",
   "execution_count": 3,
   "metadata": {
    "collapsed": true
   },
   "outputs": [],
   "source": [
    "dataset = load_iris()\n",
    "X = dataset.data\n",
    "y = dataset.target\n",
    "\n",
    "xTrain, xTest, yTrain, yTest = train_test_split(X, y)"
   ]
  },
  {
   "cell_type": "markdown",
   "metadata": {},
   "source": [
    "# KMeans"
   ]
  },
  {
   "cell_type": "code",
   "execution_count": 4,
   "metadata": {
    "collapsed": true
   },
   "outputs": [],
   "source": [
    "class CustomKMeans(BaseEstimator, ClusterMixin):\n",
    "    def __init__(self, k=10, max_iter=300, tol=0.0001):\n",
    "        self.k = k\n",
    "        self.max_iter = max_iter\n",
    "        self.tol = tol\n",
    "\n",
    "    @property\n",
    "    def cluster_centers_(self):\n",
    "        return np.array(list(self.centroids.values()))\n",
    "\n",
    "    @property\n",
    "    def clusters_(self):\n",
    "        for i in self.clusters:\n",
    "            self.clusters[i] = np.array(self.clusters[i])\n",
    "        return self.clusters\n",
    "\n",
    "    def fit(self, X):\n",
    "        self.X = X\n",
    "        self._check_params(self.X)\n",
    "        self._kmeans(self.X)\n",
    "        self.fitted_ = True\n",
    "        \n",
    "        return self\n",
    "    \n",
    "    \n",
    "    def _kmeans(self,X):\n",
    "        self.centroids = {}\n",
    "        #initially taking first \"k\" points as centroids\n",
    "        for i in range(self.k):\n",
    "            self.centroids[i] = X[i]\n",
    "\n",
    "        self.clusters = {}\n",
    "        for _ in range(self.max_iter):\n",
    "            for i in range(self.k):\n",
    "                self.clusters[i] = []\n",
    "\n",
    "            # iterating over X and adding point to closes cluster it belongs to\n",
    "            for point in X:\n",
    "                # computing eucledian distances of current point from each centroid\n",
    "                distances = [np.linalg.norm(self.centroids[centroid]-point) for centroid in self.centroids]\n",
    "\n",
    "                # getting index of closest cluster\n",
    "                index = np.argmin(distances)\n",
    "\n",
    "                # appending point(feature set) to list of cluster it belongs to\n",
    "                self.clusters[index].append(point)\n",
    "\n",
    "            old_centroids = dict(self.centroids)\n",
    "            for i in self.clusters:\n",
    "                # computing new centroid by taking mean of all points in current cluster\n",
    "                centroid = np.average(self.clusters[i], axis=0)\n",
    "\n",
    "                self.centroids[i] = centroid\n",
    "\n",
    "            bools = [True if np.array_equal(self.centroids[k], old_centroids[k]) else False for k in range(self.k)]\n",
    "            if all(bools):\n",
    "                break\n",
    "        \n",
    "    \n",
    "    def _find_optimum_k(self):\n",
    "        pass\n",
    "\n",
    "\n",
    "    def predict(self, point):\n",
    "        # computing  eucledian distances between given point and centroids\n",
    "        distances = [np.linalg.norm(centroid-point) for centroid in self.centroids]\n",
    "\n",
    "        # return cendroid with minimum distance\n",
    "        return distances.argmin()\n",
    "\n",
    "\n",
    "    def plot(self):\n",
    "        colors = ['g', 'r', 'b', 'y', 'm']\n",
    "\n",
    "        # plotting clusters\n",
    "        for i in self._clusters:\n",
    "            plt.scatter(self._clusters[i][:,0], self._clusters[i][:,1], s=25, color=colors[i%5])\n",
    "\n",
    "        # plotting centroids\n",
    "        plt.scatter(self.cluster_centers_[:,0], self.cluster_centers_[:,1], marker='x', color='pink')\n",
    "        plt.show()\n",
    "        \n",
    "    \n",
    "    def _check_params(self, X):\n",
    "        pass"
   ]
  },
  {
   "cell_type": "markdown",
   "metadata": {},
   "source": [
    "# CustomKMeans vs KMeans"
   ]
  },
  {
   "cell_type": "code",
   "execution_count": 5,
   "metadata": {},
   "outputs": [
    {
     "name": "stdout",
     "output_type": "stream",
     "text": [
      "[[ 5.          2.3         3.275       1.025     ]\n",
      " [ 6.58823529  3.11176471  5.48823529  2.15294118]\n",
      " [ 5.26363636  3.65909091  1.50454545  0.29545455]\n",
      " [ 5.66315789  2.71578947  4.07368421  1.25263158]\n",
      " [ 6.4         2.98125     4.5875      1.425     ]\n",
      " [ 5.95555556  2.72222222  4.98888889  1.77777778]\n",
      " [ 7.58333333  3.2         6.45        2.05      ]\n",
      " [ 4.74736842  3.12105263  1.43157895  0.19473684]]\n",
      "\n",
      "[[ 5.95555556  2.72222222  4.98888889  1.77777778]\n",
      " [ 6.48        3.07        5.35        2.07      ]\n",
      " [ 6.74285714  3.17142857  5.68571429  2.27142857]\n",
      " [ 7.58333333  3.2         6.45        2.05      ]\n",
      " [ 5.08        3.48        1.54666667  0.3       ]\n",
      " [ 5.48888889  3.88888889  1.46666667  0.26666667]\n",
      " [ 5.37272727  2.44545455  3.63636364  1.13636364]\n",
      " [ 5.85789474  2.84736842  4.32631579  1.32105263]\n",
      " [ 4.72941176  3.09411765  1.40588235  0.19411765]\n",
      " [ 6.62222222  3.05555556  4.63333333  1.45555556]]\n"
     ]
    }
   ],
   "source": [
    "skModel = KMeans().fit(xTrain)\n",
    "custModel = CustomKMeans().fit(xTrain)\n",
    "\n",
    "print(skModel.cluster_centers_)\n",
    "print()\n",
    "print(custModel.cluster_centers_)"
   ]
  }
 ],
 "metadata": {
  "kernelspec": {
   "display_name": "Python 3",
   "language": "python",
   "name": "python3"
  },
  "language_info": {
   "codemirror_mode": {
    "name": "ipython",
    "version": 3
   },
   "file_extension": ".py",
   "mimetype": "text/x-python",
   "name": "python",
   "nbconvert_exporter": "python",
   "pygments_lexer": "ipython3",
   "version": "3.6.3"
  },
  "varInspector": {
   "cols": {
    "lenName": 16,
    "lenType": 16,
    "lenVar": 40
   },
   "kernels_config": {
    "python": {
     "delete_cmd_postfix": "",
     "delete_cmd_prefix": "del ",
     "library": "var_list.py",
     "varRefreshCmd": "print(var_dic_list())"
    },
    "r": {
     "delete_cmd_postfix": ") ",
     "delete_cmd_prefix": "rm(",
     "library": "var_list.r",
     "varRefreshCmd": "cat(var_dic_list()) "
    }
   },
   "types_to_exclude": [
    "module",
    "function",
    "builtin_function_or_method",
    "instance",
    "_Feature"
   ],
   "window_display": false
  }
 },
 "nbformat": 4,
 "nbformat_minor": 2
}
