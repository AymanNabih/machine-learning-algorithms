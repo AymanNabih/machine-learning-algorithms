{
 "cells": [
  {
   "cell_type": "markdown",
   "metadata": {},
   "source": [
    "# Introduction"
   ]
  },
  {
   "cell_type": "markdown",
   "metadata": {},
   "source": [
    "# Setup"
   ]
  },
  {
   "cell_type": "markdown",
   "metadata": {},
   "source": [
    "# Imports"
   ]
  },
  {
   "cell_type": "code",
   "execution_count": 32,
   "metadata": {
    "collapsed": true
   },
   "outputs": [],
   "source": [
    "import numpy as np\n",
    "import pandas as pd\n",
    "import matplotlib.pyplot as plt\n",
    "from sklearn.base import BaseEstimator, ClusterMixin\n",
    "from sklearn.preprocessing import StandardScaler\n",
    "from sklearn.cluster import KMeans\n",
    "from sklearn.cross_validation import cross_val_score\n",
    "from sklearn.model_selection import train_test_split\n",
    "from sklearn.datasets import load_iris"
   ]
  },
  {
   "cell_type": "markdown",
   "metadata": {},
   "source": [
    "# Dataset"
   ]
  },
  {
   "cell_type": "code",
   "execution_count": 52,
   "metadata": {},
   "outputs": [],
   "source": [
    "dataset = load_iris()\n",
    "X = dataset.data\n",
    "y = dataset.target\n",
    "\n",
    "xTrain, xTest, yTrain, yTest = train_test_split(X, y)"
   ]
  },
  {
   "cell_type": "markdown",
   "metadata": {},
   "source": [
    "# KMeans"
   ]
  },
  {
   "cell_type": "code",
   "execution_count": 49,
   "metadata": {
    "collapsed": true
   },
   "outputs": [],
   "source": [
    "class CustomKMeans(BaseEstimator, ClusterMixin):\n",
    "    def __init__(self, k=10, max_iter=300, tol=0.0001):\n",
    "        self.k = k\n",
    "        self.max_iter = max_iter\n",
    "        self.tol = tol\n",
    "\n",
    "    @property\n",
    "    def cluster_centers_(self):\n",
    "        return np.array(list(self.centroids.values()))\n",
    "\n",
    "    @property\n",
    "    def clusters_(self):\n",
    "        for i in self.clusters:\n",
    "            self.clusters[i] = np.array(self.clusters[i])\n",
    "        return self.clusters\n",
    "\n",
    "    def fit(self, X):\n",
    "        self._check_params(X)\n",
    "        \n",
    "        self.centroids = {}\n",
    "        #initially taking first \"k\" points as centroids\n",
    "        for i in range(self.k):\n",
    "            self.centroids[i] = X[i]\n",
    "\n",
    "        self.clusters = {}\n",
    "        for _ in range(self.max_iter):\n",
    "            for i in range(self.k):\n",
    "                self.clusters[i] = []\n",
    "\n",
    "            # iterating over X and adding point to closes cluster it belongs to\n",
    "            for point in X:\n",
    "                # computing eucledian distances of current point from each centroid\n",
    "                distances = [np.linalg.norm(self.centroids[centroid]-point) for centroid in self.centroids]\n",
    "\n",
    "                # getting index of closest cluster\n",
    "                index = np.argmin(distances)\n",
    "\n",
    "                # appending point(feature set) to list of cluster it belongs to\n",
    "                self.clusters[index].append(point)\n",
    "\n",
    "            old_centroids = dict(self.centroids)\n",
    "            for i in self.clusters:\n",
    "                # computing new centroid by taking mean of all points in current cluster\n",
    "                centroid = np.average(self.clusters[i], axis=0)\n",
    "\n",
    "                self.centroids[i] = centroid\n",
    "\n",
    "            bools = [True if np.array_equal(self.centroids[k], old_centroids[k]) else False for k in range(self.k)]\n",
    "            if all(bools):\n",
    "                break\n",
    "        \n",
    "        return self\n",
    "\n",
    "\n",
    "    def predict(self, point):\n",
    "        # computing  eucledian distances between given point and centroids\n",
    "        distances = [np.linalg.norm(centroid-point) for centroid in self.centroids]\n",
    "\n",
    "        # return cendroid with minimum distance\n",
    "        return distances.argmin()\n",
    "\n",
    "\n",
    "    def plot(self):\n",
    "        colors = ['g', 'r', 'b', 'y', 'm']\n",
    "\n",
    "        # plotting clusters\n",
    "        for i in self._clusters:\n",
    "            plt.scatter(self._clusters[i][:,0], self._clusters[i][:,1], s=25, color=colors[i%5])\n",
    "\n",
    "        # plotting centroids\n",
    "        plt.scatter(self._centroids[:,0], self._centroids[:,1], marker='x', color='pink')\n",
    "        plt.show()\n",
    "        \n",
    "    \n",
    "    def _check_params(self, X, y=None):\n",
    "        pass"
   ]
  },
  {
   "cell_type": "markdown",
   "metadata": {},
   "source": [
    "# CustomKMeans vs KMeans"
   ]
  },
  {
   "cell_type": "code",
   "execution_count": 53,
   "metadata": {},
   "outputs": [
    {
     "name": "stdout",
     "output_type": "stream",
     "text": [
      "[[ 5.6         2.74285714  4.12857143  1.31428571]\n",
      " [ 5.22631579  3.66842105  1.50526316  0.27894737]\n",
      " [ 6.56470588  3.06470588  5.5         2.15882353]\n",
      " [ 7.46        3.21        6.26        2.04      ]\n",
      " [ 6.          2.70714286  4.92142857  1.8       ]\n",
      " [ 4.75555556  3.17777778  1.43333333  0.18333333]\n",
      " [ 5.          2.3         3.275       1.025     ]\n",
      " [ 6.475       3.025       4.625       1.45      ]]\n",
      "\n",
      "[[ 5.72222222  2.75555556  4.          1.25555556]\n",
      " [ 5.          2.3         3.275       1.025     ]\n",
      " [ 6.72222222  3.          4.67777778  1.45555556]\n",
      " [ 6.11        3.06        4.64        1.55      ]\n",
      " [ 4.74117647  3.16470588  1.42941176  0.18235294]\n",
      " [ 7.46        3.21        6.26        2.04      ]\n",
      " [ 6.          2.60909091  4.94545455  1.8       ]\n",
      " [ 5.38        2.72        4.36        1.42      ]\n",
      " [ 6.56470588  3.06470588  5.5         2.15882353]\n",
      " [ 5.215       3.655       1.505       0.275     ]]\n"
     ]
    }
   ],
   "source": [
    "skModel = KMeans().fit(xTrain)\n",
    "custModel = CustomKMeans().fit(xTrain)\n",
    "\n",
    "print(skModel.cluster_centers_)\n",
    "print()\n",
    "print(custModel.cluster_centers_)"
   ]
  }
 ],
 "metadata": {
  "kernelspec": {
   "display_name": "Python 3",
   "language": "python",
   "name": "python3"
  },
  "language_info": {
   "codemirror_mode": {
    "name": "ipython",
    "version": 3
   },
   "file_extension": ".py",
   "mimetype": "text/x-python",
   "name": "python",
   "nbconvert_exporter": "python",
   "pygments_lexer": "ipython3",
   "version": "3.6.3"
  },
  "varInspector": {
   "cols": {
    "lenName": 16,
    "lenType": 16,
    "lenVar": 40
   },
   "kernels_config": {
    "python": {
     "delete_cmd_postfix": "",
     "delete_cmd_prefix": "del ",
     "library": "var_list.py",
     "varRefreshCmd": "print(var_dic_list())"
    },
    "r": {
     "delete_cmd_postfix": ") ",
     "delete_cmd_prefix": "rm(",
     "library": "var_list.r",
     "varRefreshCmd": "cat(var_dic_list()) "
    }
   },
   "types_to_exclude": [
    "module",
    "function",
    "builtin_function_or_method",
    "instance",
    "_Feature"
   ],
   "window_display": false
  }
 },
 "nbformat": 4,
 "nbformat_minor": 2
}
