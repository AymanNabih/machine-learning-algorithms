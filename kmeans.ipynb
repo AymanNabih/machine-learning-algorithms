{
 "cells": [
  {
   "cell_type": "markdown",
   "metadata": {},
   "source": [
    "# Introduction"
   ]
  },
  {
   "cell_type": "markdown",
   "metadata": {},
   "source": [
    "# Setup"
   ]
  },
  {
   "cell_type": "markdown",
   "metadata": {},
   "source": [
    "## Imports"
   ]
  },
  {
   "cell_type": "code",
   "execution_count": 2,
   "metadata": {
    "collapsed": true
   },
   "outputs": [],
   "source": [
    "import numpy as np\n",
    "import pandas as pd\n",
    "import matplotlib.pyplot as plt\n",
    "from sklearn.base import BaseEstimator, ClusterMixin\n",
    "from sklearn.preprocessing import StandardScaler\n",
    "from sklearn.cluster import KMeans\n",
    "from sklearn.model_selection import train_test_split\n",
    "from sklearn.datasets import load_iris, make_blobs"
   ]
  },
  {
   "cell_type": "markdown",
   "metadata": {},
   "source": [
    "## Dataset"
   ]
  },
  {
   "cell_type": "code",
   "execution_count": 3,
   "metadata": {
    "collapsed": true
   },
   "outputs": [],
   "source": [
    "dataset = load_iris()\n",
    "X = dataset.data\n",
    "y = dataset.target\n",
    "\n",
    "xTrain, xTest, yTrain, yTest = train_test_split(X, y)"
   ]
  },
  {
   "cell_type": "markdown",
   "metadata": {},
   "source": [
    "# KMeans"
   ]
  },
  {
   "cell_type": "code",
   "execution_count": 60,
   "metadata": {
    "collapsed": true
   },
   "outputs": [],
   "source": [
    "class CustomKMeans(BaseEstimator, ClusterMixin):\n",
    "    def __init__(self, k=None, max_iter=300, tol=0.0001):\n",
    "        self.k = k\n",
    "        self.max_iter = max_iter\n",
    "        self.tol = tol\n",
    "\n",
    "        \n",
    "    @property\n",
    "    def cluster_centers_(self):\n",
    "        return self._cluster_centers\n",
    "\n",
    "    @property\n",
    "    def clusters_(self):\n",
    "        return self._clusters\n",
    "    \n",
    "    \n",
    "    def fit(self, X):\n",
    "        self.X = X\n",
    "        self._check_params(self.X)\n",
    "        self._kmeans(self.X)\n",
    "        self.fitted_ = True\n",
    "        \n",
    "        return self\n",
    "    \n",
    "    \n",
    "    def _kmeans(self, X):\n",
    "        centroids = []\n",
    "        \n",
    "        #initially taking first \"k\" points as centroids\n",
    "        for i in range(self.k):\n",
    "            centroids.append(X[i])\n",
    "\n",
    "        clusters = {}\n",
    "        for _ in range(self.max_iter):\n",
    "            #resetting each cluster\n",
    "            for i in range(self.k):\n",
    "                clusters[i] = []\n",
    "\n",
    "            #inserting each point to its respective cluster\n",
    "            for point in X:\n",
    "                # computing eucledian distances of current point from each centroid\n",
    "                distances = [np.linalg.norm(centroid-point) for centroid in centroids]\n",
    "\n",
    "                # getting index of closest cluster\n",
    "                index = np.argmin(distances)\n",
    "\n",
    "                # appending point(feature set) to list of cluster it belongs to\n",
    "                clusters[index].append(point)\n",
    "\n",
    "                \n",
    "            #computing new centroids\n",
    "            old_centroids = list(centroids)\n",
    "            for i in range(self.k):\n",
    "                # computing new centroid by taking mean of all points in current cluster\n",
    "                new_centroid = np.mean(clusters[i], axis=0)\n",
    "\n",
    "                #setting new centroid\n",
    "                centroids[i] = new_centroid\n",
    "                \n",
    "\n",
    "            optimized = True\n",
    "            for i in range(self.k):\n",
    "                if not np.allclose(centroids[i], old_centroids[i], atol=self.tol):\n",
    "                    optimized = False\n",
    "                    break\n",
    "            if optimized:\n",
    "                break\n",
    "        \n",
    "        self._cluster_centers = np.array(centroids)\n",
    "        self._clusters = clusters\n",
    "        for i in range(self.k):\n",
    "            self._clusters[i] = np.array(self._clusters[i])\n",
    "        \n",
    "    \n",
    "    def _estimate_k(self, X):\n",
    "        pass\n",
    "\n",
    "\n",
    "    def predict(self, X):\n",
    "        y_preds = []\n",
    "        for point in X:\n",
    "            # computing  eucledian distances between given point and centroids\n",
    "            distances = [np.linalg.norm(centroid-point) for centroid in self.centroids]\n",
    "\n",
    "            #cendroid with minimum distance\n",
    "            y_preds.append(distances.argmin())\n",
    "        \n",
    "        return y_preds\n",
    "\n",
    "    \n",
    "    def _check_params(self, X):\n",
    "        if self.k is None:\n",
    "            self.k = self._estimate_k(self.X)"
   ]
  },
  {
   "cell_type": "markdown",
   "metadata": {},
   "source": [
    "# CustomKMeans vs KMeans"
   ]
  },
  {
   "cell_type": "code",
   "execution_count": 16,
   "metadata": {},
   "outputs": [
    {
     "data": {
      "image/png": "[encoded data removed]",
      "text/plain": [
       "<matplotlib.figure.Figure at 0x1a0f6559b0>"
      ]
     },
     "metadata": {},
     "output_type": "display_data"
    }
   ],
   "source": [
    "#creating clusters\n",
    "X,y = make_blobs(n_features=2, n_samples=200, cluster_std=0.5)\n",
    "\n",
    "#plotting data\n",
    "plt.scatter(X[:,0], X[:,1])\n",
    "plt.show()"
   ]
  },
  {
   "cell_type": "code",
   "execution_count": 56,
   "metadata": {},
   "outputs": [],
   "source": [
    "skModel = KMeans(n_clusters=3).fit(X)\n",
    "custModel = CustomKMeans(k=3).fit(X)"
   ]
  },
  {
   "cell_type": "code",
   "execution_count": 57,
   "metadata": {},
   "outputs": [
    {
     "name": "stdout",
     "output_type": "stream",
     "text": [
      "[[-8.29915382  3.84558308]\n",
      " [-3.46947621 -1.09708921]\n",
      " [-3.72149157  4.26698407]]\n",
      "\n",
      "[[-3.72149157  4.26698407]\n",
      " [-8.29915382  3.84558308]\n",
      " [-3.46947621 -1.09708921]]\n"
     ]
    }
   ],
   "source": [
    "print(skModel.cluster_centers_)\n",
    "print()\n",
    "print(custModel.cluster_centers_)"
   ]
  },
  {
   "cell_type": "markdown",
   "metadata": {},
   "source": [
    "### Plotting CustomKMeans Results"
   ]
  },
  {
   "cell_type": "code",
   "execution_count": 58,
   "metadata": {},
   "outputs": [
    {
     "data": {
      "image/png": "[encoded data removed]",
      "text/plain": [
       "<matplotlib.figure.Figure at 0x1a18942978>"
      ]
     },
     "metadata": {},
     "output_type": "display_data"
    }
   ],
   "source": [
    "#plotting clusters\n",
    "for k in custModel.clusters_:\n",
    "    plt.scatter(custModel.clusters_[k][:,0], custModel.clusters_[k][:,1])\n",
    "    \n",
    "#plotting cluster centers\n",
    "plt.scatter(custModel.cluster_centers_[:,0], custModel.cluster_centers_[:,1])\n",
    "plt.show()"
   ]
  },
  {
   "cell_type": "markdown",
   "metadata": {},
   "source": [
    "### Plotting KMeans Results"
   ]
  },
  {
   "cell_type": "code",
   "execution_count": 59,
   "metadata": {},
   "outputs": [
    {
     "data": {
      "image/png": "[encoded data removed]",
      "text/plain": [
       "<matplotlib.figure.Figure at 0x1a17fe8438>"
      ]
     },
     "metadata": {},
     "output_type": "display_data"
    }
   ],
   "source": [
    "#plotting data\n",
    "plt.scatter(X[:,0], X[:,1])\n",
    "    \n",
    "#plotting cluster centers\n",
    "plt.scatter(skModel.cluster_centers_[:,0], skModel.cluster_centers_[:,1])\n",
    "plt.show()"
   ]
  }
 ],
 "metadata": {
  "kernelspec": {
   "display_name": "Python 3",
   "language": "python",
   "name": "python3"
  },
  "language_info": {
   "codemirror_mode": {
    "name": "ipython",
    "version": 3
   },
   "file_extension": ".py",
   "mimetype": "text/x-python",
   "name": "python",
   "nbconvert_exporter": "python",
   "pygments_lexer": "ipython3",
   "version": "3.6.3"
  },
  "varInspector": {
   "cols": {
    "lenName": 16,
    "lenType": 16,
    "lenVar": 40
   },
   "kernels_config": {
    "python": {
     "delete_cmd_postfix": "",
     "delete_cmd_prefix": "del ",
     "library": "var_list.py",
     "varRefreshCmd": "print(var_dic_list())"
    },
    "r": {
     "delete_cmd_postfix": ") ",
     "delete_cmd_prefix": "rm(",
     "library": "var_list.r",
     "varRefreshCmd": "cat(var_dic_list()) "
    }
   },
   "types_to_exclude": [
    "module",
    "function",
    "builtin_function_or_method",
    "instance",
    "_Feature"
   ],
   "window_display": false
  }
 },
 "nbformat": 4,
 "nbformat_minor": 2
}
